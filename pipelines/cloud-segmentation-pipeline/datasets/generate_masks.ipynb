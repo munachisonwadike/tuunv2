{
 "cells": [
  {
   "cell_type": "markdown",
   "id": "cbccc46b",
   "metadata": {},
   "source": [
    "### Code for converting the .csv segmentations labels to true masks\n",
    "\n",
    "Citations: https://www.kaggle.com/code/timetraveller98/creating-and-testing-fast-dataloaders"
   ]
  },
  {
   "cell_type": "code",
   "execution_count": 10,
   "id": "89320917",
   "metadata": {},
   "outputs": [],
   "source": [
    "# !pip install matplotlib\n",
    "# !pip install opencv-python\n",
    "\n",
    "import matplotlib.pyplot as plt\n",
    "import numpy as np\n",
    "import os\n",
    "import pandas as pd\n",
    "import tqdm\n",
    "import cv2\n",
    "\n"
   ]
  },
  {
   "cell_type": "code",
   "execution_count": 11,
   "id": "8188cf8a",
   "metadata": {},
   "outputs": [],
   "source": [
    "'''\n",
    "Helper Functions!\n",
    "'''\n",
    "def get_img(image_path):\n",
    "    \"\"\"Load image from disk\"\"\"\n",
    "    img = cv2.imread(image_path)\n",
    "    return img\n",
    "\n",
    "def rle_decode(mask_rle: str = \"\", shape: tuple = (1400, 2100)):\n",
    "    \"\"\"Source: https://www.kaggle.com/artgor/segmentation-in-pytorch-using-convenient-tools\"\"\"\n",
    "    s = mask_rle.split()\n",
    "    starts, lengths = [np.asarray(x, dtype=int) for x in (s[0:][::2], s[1:][::2])]\n",
    "    starts -= 1\n",
    "    ends = starts + lengths\n",
    "    img = np.zeros(shape[0] * shape[1], dtype=np.uint8)\n",
    "    for lo, hi in zip(starts, ends):\n",
    "        img[lo:hi] = 1\n",
    "    return img.reshape(shape, order=\"F\")\n",
    "\n",
    "\n",
    "def make_mask(df: pd.DataFrame, image_name: str='img.jpg', shape: tuple = (1400, 2100)):\n",
    "    \"\"\"Source: https://www.kaggle.com/artgor/segmentation-in-pytorch-using-convenient-tools\"\"\"\n",
    "    encoded_masks = df.loc[df['im_id'] == image_name, 'EncodedPixels']\n",
    "    masks = np.zeros((shape[0], shape[1], 4), dtype=np.float32)\n",
    "    for idx, label in enumerate(encoded_masks.values):\n",
    "#         if label is not np.nan:\n",
    "        print(len(encoded_masks.values))\n",
    "        try:\n",
    "            mask = rle_decode(label)\n",
    "        except:\n",
    "            mask = np.zeros((1400, 2100))\n",
    "        masks[:, :, idx] = mask         \n",
    "    return masks\n",
    "\n",
    "\n",
    "def get_img(name, image_dir='dir_op_npy', npy=False):\n",
    "    if npy:\n",
    "        return np.load(os.path.join(image_dir, name+'.npy'))\n",
    "    img = cv2.imread(os.path.join(image_dir, name))\n",
    "    return cv2.cvtColor(img, cv2.COLOR_BGR2RGB)\n",
    "        \n",
    "\n",
    "def visualize(image, mask, original_image=None, original_mask=None, gray=True):\n",
    "    \"\"\"Source: https://www.kaggle.com/artgor/segmentation-in-pytorch-using-convenient-tools\"\"\"\n",
    "    fontsize = 14\n",
    "    class_dict = {0: \"Fish\", 1: \"Flower\", 2: \"Gravel\", 3: \"Sugar\"}    \n",
    "    if original_image is None and original_mask is None:\n",
    "        f, ax = plt.subplots(1, 5, figsize=(24, 24))\n",
    "\n",
    "        if gray:\n",
    "            ax[0].imshow(image, cmap='gray')\n",
    "        else:    \n",
    "            ax[0].imshow(image)\n",
    "        for i in range(4):\n",
    "            ax[i + 1].imshow(mask[:, :, i])\n",
    "            ax[i + 1].set_title(f\"Mask {class_dict[i]}\", fontsize=fontsize)\n",
    "    else:\n",
    "        f, ax = plt.subplots(2, 5, figsize=(24, 12))\n",
    "\n",
    "        ax[0, 0].imshow(original_image)\n",
    "        ax[0, 0].set_title(\"Original image\", fontsize=fontsize)\n",
    "\n",
    "        for i in range(4):\n",
    "            ax[0, i + 1].imshow(original_mask[:, :, i])\n",
    "            ax[0, i + 1].set_title(f\"Original mask {class_dict[i]}\", fontsize=fontsize)\n",
    "\n",
    "        ax[1, 0].imshow(image)\n",
    "        ax[1, 0].set_title(\"Transformed image\", fontsize=fontsize)\n",
    "\n",
    "        for i in range(4):\n",
    "            ax[1, i + 1].imshow(mask[:, :, i])\n",
    "            ax[1, i + 1].set_title(\n",
    "                f\"Transformed mask {class_dict[i]}\", fontsize=fontsize\n",
    "            )\n"
   ]
  },
  {
   "cell_type": "code",
   "execution_count": 12,
   "id": "9a0497e4",
   "metadata": {},
   "outputs": [
    {
     "name": "stderr",
     "output_type": "stream",
     "text": [
      "  0%|                                                                                           | 0/5546 [00:00<?, ?it/s, file=10ed865.jpg]"
     ]
    },
    {
     "name": "stdout",
     "output_type": "stream",
     "text": [
      "4\n",
      "4\n",
      "4\n",
      "4\n",
      "(1400, 2100, 4)\n"
     ]
    },
    {
     "name": "stderr",
     "output_type": "stream",
     "text": [
      "\n"
     ]
    }
   ],
   "source": [
    "'''\n",
    "Generate some masks\n",
    "'''\n",
    "# !pwd understanding_cloud_organization\n",
    "\n",
    "#Load train.csv to make mask\n",
    "train = pd.read_csv(f\"understanding_cloud_organization/train.csv\")\n",
    "train[\"label\"] = train[\"Image_Label\"].apply(lambda x: x.split(\"_\")[1])\n",
    "train[\"im_id\"] = train[\"Image_Label\"].apply(lambda x: x.split(\"_\")[0])\n",
    "\n",
    "\n",
    "N = 1000 #number of images\n",
    "dir_ip = '/home/Munachiso.Nwadike/tuunv2/pipelines/cloud-segmentation-pipeline/datasets/understanding_cloud_organization/train_images'\n",
    "dir_op_mask = '/home/Munachiso.Nwadike/tuunv2/pipelines/cloud-segmentation-pipeline/datasets/understanding_cloud_organization/train_masks'\n",
    "bar = tqdm.tqdm(os.listdir(dir_ip), postfix={\"file\":\"none\"})\n",
    "\n",
    "\n",
    "\n",
    "for file in bar:\n",
    "    bar.set_postfix(ordered_dict={\"file\":file})    \n",
    "#     path = os.path.join(dir_ip, file)\n",
    "    mask = make_mask(train, file) \n",
    "    file = file + '.npy'\n",
    "    print(mask.shape)\n",
    "    np.save(os.path.join(dir_op_mask, file), mask)\n",
    "    break\n",
    "#     try:\n",
    "#         np.save(os.path.join(dir_op_mask, file), mask)\n",
    "#     except:\n",
    "#         print(\"Error Encountered @\",file)\n",
    "#         break"
   ]
  },
  {
   "cell_type": "code",
   "execution_count": 5,
   "id": "51ba11ae",
   "metadata": {
    "scrolled": true
   },
   "outputs": [
    {
     "name": "stdout",
     "output_type": "stream",
     "text": [
      "/home/Munachiso.Nwadike/anaconda3/envs/cv_pipeline/lib/python3.7/site-packages/cv2/__init__.py\n"
     ]
    },
    {
     "ename": "NameError",
     "evalue": "name 'dir_ip' is not defined",
     "output_type": "error",
     "traceback": [
      "\u001b[0;31m---------------------------------------------------------------------------\u001b[0m",
      "\u001b[0;31mNameError\u001b[0m                                 Traceback (most recent call last)",
      "\u001b[0;32m/tmp/ipykernel_13162/732083036.py\u001b[0m in \u001b[0;36m<module>\u001b[0;34m\u001b[0m\n\u001b[1;32m      7\u001b[0m \u001b[0;31m# for batch in os.listdir(dir_ip):\u001b[0m\u001b[0;34m\u001b[0m\u001b[0;34m\u001b[0m\u001b[0;34m\u001b[0m\u001b[0m\n\u001b[1;32m      8\u001b[0m \u001b[0;32mfor\u001b[0m \u001b[0mbatch\u001b[0m \u001b[0;32min\u001b[0m \u001b[0;34m[\u001b[0m\u001b[0;34m'75ccf10.jpg'\u001b[0m\u001b[0;34m]\u001b[0m\u001b[0;34m:\u001b[0m\u001b[0;34m\u001b[0m\u001b[0;34m\u001b[0m\u001b[0m\n\u001b[0;32m----> 9\u001b[0;31m     \u001b[0mprint\u001b[0m\u001b[0;34m(\u001b[0m\u001b[0mos\u001b[0m\u001b[0;34m.\u001b[0m\u001b[0mpath\u001b[0m\u001b[0;34m.\u001b[0m\u001b[0mjoin\u001b[0m\u001b[0;34m(\u001b[0m\u001b[0mdir_ip\u001b[0m\u001b[0;34m,\u001b[0m \u001b[0mbatch\u001b[0m\u001b[0;34m)\u001b[0m\u001b[0;34m)\u001b[0m\u001b[0;34m\u001b[0m\u001b[0;34m\u001b[0m\u001b[0m\n\u001b[0m\u001b[1;32m     10\u001b[0m     \u001b[0mimages\u001b[0m \u001b[0;34m=\u001b[0m \u001b[0mget_img\u001b[0m\u001b[0;34m(\u001b[0m\u001b[0mos\u001b[0m\u001b[0;34m.\u001b[0m\u001b[0mpath\u001b[0m\u001b[0;34m.\u001b[0m\u001b[0mjoin\u001b[0m\u001b[0;34m(\u001b[0m\u001b[0mdir_ip\u001b[0m\u001b[0;34m,\u001b[0m \u001b[0mbatch\u001b[0m\u001b[0;34m)\u001b[0m\u001b[0;34m)\u001b[0m\u001b[0;34m\u001b[0m\u001b[0;34m\u001b[0m\u001b[0m\n\u001b[1;32m     11\u001b[0m     \u001b[0mcv2\u001b[0m\u001b[0;34m.\u001b[0m\u001b[0mimshow\u001b[0m\u001b[0;34m(\u001b[0m\u001b[0;34m\"name\"\u001b[0m\u001b[0;34m,\u001b[0m \u001b[0mimages\u001b[0m\u001b[0;34m)\u001b[0m\u001b[0;34m\u001b[0m\u001b[0;34m\u001b[0m\u001b[0m\n",
      "\u001b[0;31mNameError\u001b[0m: name 'dir_ip' is not defined"
     ]
    }
   ],
   "source": [
    "'''\n",
    "Visualise mask!\n",
    "'''\n",
    "\n",
    "# !ls understanding_cloud_organization/train_masks\n",
    "print(cv2.__file__)\n",
    "# for batch in os.listdir(dir_ip):\n",
    "for batch in ['75ccf10.jpg']:\n",
    "    print(os.path.join(dir_ip, batch))\n",
    "    images = get_img(os.path.join(dir_ip, batch))\n",
    "    cv2.imshow(\"name\", images)\n",
    "    masks = np.load(os.path.join(dir_op_mask, batch+'.npy'))#print(batch)\n",
    "    visualize(images, masks)\n",
    "    break        "
   ]
  }
 ],
 "metadata": {
  "kernelspec": {
   "display_name": "Python 3 (ipykernel)",
   "language": "python",
   "name": "python3"
  },
  "language_info": {
   "codemirror_mode": {
    "name": "ipython",
    "version": 3
   },
   "file_extension": ".py",
   "mimetype": "text/x-python",
   "name": "python",
   "nbconvert_exporter": "python",
   "pygments_lexer": "ipython3",
   "version": "3.7.13"
  }
 },
 "nbformat": 4,
 "nbformat_minor": 5
}
